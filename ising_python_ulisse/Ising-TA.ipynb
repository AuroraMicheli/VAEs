{
 "cells": [
  {
   "cell_type": "code",
   "execution_count": 32,
   "metadata": {},
   "outputs": [],
   "source": [
    "\n",
    "import torch\n",
    "import numpy as np\n",
    "import itertools\n",
    "import pandas as pd\n",
    "import matplotlib.pyplot as plt\n",
    "from matplotlib import cm\n",
    "import torch.nn.functional as F\n",
    "from torch.utils.data import DataLoader\n",
    "import random\n",
    "import scipy.sparse\n",
    "from scipy import stats\n",
    "from scipy import fftpack\n",
    "from infer_pK_Kt_bytype import optimalLearningParallel\n",
    "import pickle"
   ]
  },
  {
   "cell_type": "code",
   "execution_count": 33,
   "metadata": {},
   "outputs": [],
   "source": [
    "def save_dict(di_, filename_):\n",
    "    with open(filename_, 'wb') as f:\n",
    "        pickle.dump(di_, f)\n",
    "\n",
    "def load_dict(filename_):\n",
    "    with open(filename_, 'rb') as f:\n",
    "        ret_di = pickle.load(f)\n",
    "    return ret_di"
   ]
  },
  {
   "cell_type": "code",
   "execution_count": 41,
   "metadata": {},
   "outputs": [],
   "source": [
    "#Try to fit parameters of MaxEnt with TA code\n",
    "#Load spikes, possibly in the form NxB\n",
    "d = load_dict(\"myspikes.npy\")\n",
    "r = d['5']\n",
    "#r = r.reshape(-1,r.shape[-1]).transpose()"
   ]
  },
  {
   "cell_type": "code",
   "execution_count": 42,
   "metadata": {},
   "outputs": [],
   "source": [
    "#Parameters for fitting\n",
    "N,B = r.shape\n",
    "Bmin = B\n",
    "logTd = 5\n",
    "nWork=1\n",
    "nStepMore = 10\n",
    "eta = 5e-3"
   ]
  },
  {
   "cell_type": "code",
   "execution_count": 43,
   "metadata": {},
   "outputs": [],
   "source": [
    "#COmpute summary statistics and inverse of hessian\n",
    "cells_all = {}\n",
    "P = []\n",
    "pA = [] # mean of P\n",
    "P_csr = []\n",
    "for i_cell in range(N):\n",
    "    cells_all[i_cell] = {}\n",
    "    cells_all[i_cell]['spike_train'] = r[i_cell]\n",
    "cells_clean_all = []\n",
    "for i_clean in range(N):\n",
    "    P_csr.append(scipy.sparse.csr_matrix(cells_all[i_clean]\\\n",
    "        ['spike_train']))\n",
    "    pA.append(P_csr[-1].mean())\n",
    "    cells_clean_all.append(i_clean)\n",
    "# generating susceptibility matrix chiA (Fisher matrix)\n",
    "n_cells_clean = len(cells_clean_all)            \n",
    "\n",
    "for i_clean0 in range(N):\n",
    "    for i_clean1 in range(N):\n",
    "        if i_clean0 < i_clean1:#np.in1d([i_clean0, i_clean1], cells_exclude).any() == False \\\n",
    "            #and i_clean0 < i_clean1:\n",
    "            max_len = np.amin([len(cells_all[i_clean0]['spike_train']), \n",
    "                                len(cells_all[i_clean1]['spike_train'])])\n",
    "            train0 = scipy.sparse.csr_matrix(cells_all[i_clean0]\\\n",
    "                ['spike_train'][:max_len])\n",
    "            train1 = scipy.sparse.csr_matrix(cells_all[i_clean1]\\\n",
    "                ['spike_train'][:max_len])\n",
    "            P_csr.append(train0.multiply(train1))\n",
    "            pA.append(P_csr[-1].mean())\n",
    "chiA = np.zeros((len(P_csr), len(P_csr)))\n",
    "chiAC = np.zeros((len(P_csr), len(P_csr))) # connected correlations\n",
    "for i_chiA0 in range(len(P_csr)):\n",
    "    for i_chiA1 in range(i_chiA0, len(P_csr)):\n",
    "        max_len = np.amin([P_csr[i_chiA0].shape[1], P_csr[i_chiA1].shape[1]])\n",
    "        arr0 = P_csr[i_chiA0][0, :max_len]\n",
    "        arr1 = P_csr[i_chiA1][0, :max_len]\n",
    "        chiA[i_chiA0][i_chiA1] = arr0.multiply(arr1).mean()\n",
    "        chiAC[i_chiA0][i_chiA1] = chiA[i_chiA0][i_chiA1]\n",
    "        # connecting 2-way correlations\n",
    "#        if i_chiA0<n_cells_clean and i_chiA1<n_cells_clean:\n",
    "        chiAC[i_chiA0][i_chiA1] -= pA[i_chiA0]*pA[i_chiA1]\n",
    "        chiAC[i_chiA1][i_chiA0] = chiAC[i_chiA0][i_chiA1]\n",
    "        chiA[i_chiA1][i_chiA0] = chiA[i_chiA0][i_chiA1]"
   ]
  },
  {
   "cell_type": "code",
   "execution_count": 44,
   "metadata": {},
   "outputs": [
    {
     "name": "stdout",
     "output_type": "stream",
     "text": [
      "n1 0 n2 1 offset 10\n",
      "n1 0 n2 2 offset 11\n",
      "n1 0 n2 3 offset 12\n",
      "n1 0 n2 4 offset 13\n",
      "n1 0 n2 5 offset 14\n",
      "n1 0 n2 6 offset 15\n",
      "n1 0 n2 7 offset 16\n",
      "n1 0 n2 8 offset 17\n",
      "n1 0 n2 9 offset 18\n",
      "n1 1 n2 2 offset 19\n",
      "n1 1 n2 3 offset 20\n",
      "n1 1 n2 4 offset 21\n",
      "n1 1 n2 5 offset 22\n",
      "n1 1 n2 6 offset 23\n",
      "n1 1 n2 7 offset 24\n",
      "n1 1 n2 8 offset 25\n",
      "n1 1 n2 9 offset 26\n",
      "n1 2 n2 3 offset 27\n",
      "n1 2 n2 4 offset 28\n",
      "n1 2 n2 5 offset 29\n",
      "n1 2 n2 6 offset 30\n",
      "n1 2 n2 7 offset 31\n",
      "n1 2 n2 8 offset 32\n",
      "n1 2 n2 9 offset 33\n",
      "n1 3 n2 4 offset 34\n",
      "n1 3 n2 5 offset 35\n",
      "n1 3 n2 6 offset 36\n",
      "n1 3 n2 7 offset 37\n",
      "n1 3 n2 8 offset 38\n",
      "n1 3 n2 9 offset 39\n",
      "n1 4 n2 5 offset 40\n",
      "n1 4 n2 6 offset 41\n",
      "n1 4 n2 7 offset 42\n",
      "n1 4 n2 8 offset 43\n",
      "n1 4 n2 9 offset 44\n",
      "n1 5 n2 6 offset 45\n",
      "n1 5 n2 7 offset 46\n",
      "n1 5 n2 8 offset 47\n",
      "n1 5 n2 9 offset 48\n",
      "n1 6 n2 7 offset 49\n",
      "n1 6 n2 8 offset 50\n",
      "n1 6 n2 9 offset 51\n",
      "n1 7 n2 8 offset 52\n",
      "n1 7 n2 9 offset 53\n",
      "n1 8 n2 9 offset 54\n",
      "[5.280e-02 1.890e-01 2.806e-01 2.566e-01 1.480e-01 5.540e-02 1.520e-02\n",
      " 2.300e-03 1.000e-04 0.000e+00 0.000e+00]\n",
      "[-0.00729999 -0.0008      0.0019      0.001       0.0028      0.00220001\n",
      " -0.01039999  0.0017     -0.00310001  0.01089999 -0.0123     -0.0002\n",
      " -0.0126      0.0006     -0.0058      0.0155      0.0127      0.0163\n",
      "  0.0116      0.0379     -0.0269     -0.0349     -0.0354     -0.0265\n",
      " -0.0338      0.0104      0.0269     -0.0325     -0.0383     -0.0375\n",
      " -0.0186     -0.0318      0.0188      0.0342      0.0345      0.036\n",
      "  0.0078      0.0213     -0.025      -0.0283      0.0383      0.019\n",
      "  0.0362     -0.0144     -0.0286      0.0134      0.0298     -0.021\n",
      " -0.0333      0.0288      0.003       0.0008     -0.0031     -0.0159\n",
      "  0.033     ]\n",
      "2.120969606350192\n",
      "1 1.05 1.0 1.2642196120923102\n",
      "2 1.1025 1.0 0.16952809469908\n",
      "3 1.1576250000000001 1.0 -0.12045749122841926\n",
      "Inference done, now thermalization\n",
      "3 1.0930218371842486 0 0.05742430438790414 0.2889999999999845\n",
      "3 1.3203604015844077 1 -0.18895854271490883 0.2808999999999854\n",
      "3 1.098530971625251 2 0.1839309239202697 0.28739999999998467\n",
      "3 0.9663623269118148 3 0.1281902423905701 0.275299999999986\n",
      "3 1.2130725075960762 4 -0.2273728390805487 0.2871999999999847\n",
      "3 1.586607397859934 5 -0.26844162098256275 0.2908999999999843\n",
      "3 1.3061252801448047 6 0.19453307173001053 0.27759999999998575\n",
      "3 1.222275892987078 7 0.06635034591556112 0.284199999999985\n",
      "3 1.0095238635354113 8 0.19123580948540023 0.2872999999999847\n",
      "3 1.0565618134310368 9 -0.04554126664938986 0.28309999999998514\n",
      "25197\n",
      "25561\n"
     ]
    }
   ],
   "source": [
    "labels = [1]*N\n",
    "#Fitting procedure\n",
    "q, jList, pK_all, pK_types, pK_indep, Kt_types, raster_MC = optimalLearningParallel(\\\n",
    "                                                                    N, \n",
    "                                                                    B, \n",
    "                                                                    Bmin, \n",
    "                                                                    logTd, pA, chiAC, \n",
    "                                                                    eta, 1.0, \n",
    "                                                                    nStepMore, nWork, \n",
    "                                                                    labels)"
   ]
  },
  {
   "cell_type": "code",
   "execution_count": 45,
   "metadata": {},
   "outputs": [],
   "source": [
    "tri = np.zeros((N,N))\n",
    "tri[np.triu_indices(N, 1)] = jList[N:]"
   ]
  },
  {
   "cell_type": "code",
   "execution_count": 46,
   "metadata": {},
   "outputs": [
    {
     "data": {
      "text/plain": [
       "<matplotlib.image.AxesImage at 0x7efc1430f460>"
      ]
     },
     "execution_count": 46,
     "metadata": {},
     "output_type": "execute_result"
    },
    {
     "data": {
      "image/png": "[encoded data removed]",
      "text/plain": [
       "<Figure size 432x288 with 1 Axes>"
      ]
     },
     "metadata": {
      "needs_background": "light"
     },
     "output_type": "display_data"
    }
   ],
   "source": [
    "plt.imshow(tri)"
   ]
  },
  {
   "cell_type": "code",
   "execution_count": 31,
   "metadata": {},
   "outputs": [
    {
     "data": {
      "text/plain": [
       "array([-3.10439744, -3.30708117, -3.53689976, -3.40899648, -3.52824686,\n",
       "       -3.48777092, -3.49563476, -3.19205147, -3.43139633, -3.21440664])"
      ]
     },
     "execution_count": 31,
     "metadata": {},
     "output_type": "execute_result"
    }
   ],
   "source": [
    "jList[0:N]"
   ]
  },
  {
   "cell_type": "code",
   "execution_count": 40,
   "metadata": {},
   "outputs": [
    {
     "data": {
      "text/plain": [
       "array([[ 0.        , -1.51476689, -1.53766015, -1.66159319, -1.66314671,\n",
       "        -1.71294664, -1.56901981, -1.72747263, -1.88857833, -2.01092586],\n",
       "       [ 0.        ,  0.        , -1.6915924 , -1.79114773, -1.47606976,\n",
       "        -1.54726842, -1.75190387, -1.78944881, -1.76084998, -1.75325785],\n",
       "       [ 0.        ,  0.        ,  0.        , -1.54928746, -1.78269138,\n",
       "        -1.81823069, -1.48869813, -1.92992247, -1.85744723, -1.36671298],\n",
       "       [ 0.        ,  0.        ,  0.        ,  0.        , -1.50418404,\n",
       "        -1.336894  , -1.4138893 , -1.53411059, -1.56477428, -1.66762713],\n",
       "       [ 0.        ,  0.        ,  0.        ,  0.        ,  0.        ,\n",
       "        -0.76974587, -1.45759828, -1.61778622, -1.65553642, -1.6686595 ],\n",
       "       [ 0.        ,  0.        ,  0.        ,  0.        ,  0.        ,\n",
       "         0.        , -1.45418029, -1.68183762, -1.64862001, -1.76517895],\n",
       "       [ 0.        ,  0.        ,  0.        ,  0.        ,  0.        ,\n",
       "         0.        ,  0.        , -1.72590822, -1.46147985, -1.63872317],\n",
       "       [ 0.        ,  0.        ,  0.        ,  0.        ,  0.        ,\n",
       "         0.        ,  0.        ,  0.        , -2.15475837, -1.77449043],\n",
       "       [ 0.        ,  0.        ,  0.        ,  0.        ,  0.        ,\n",
       "         0.        ,  0.        ,  0.        ,  0.        , -1.48235342],\n",
       "       [ 0.        ,  0.        ,  0.        ,  0.        ,  0.        ,\n",
       "         0.        ,  0.        ,  0.        ,  0.        ,  0.        ]])"
      ]
     },
     "execution_count": 40,
     "metadata": {},
     "output_type": "execute_result"
    }
   ],
   "source": [
    "tri"
   ]
  },
  {
   "cell_type": "code",
   "execution_count": null,
   "metadata": {},
   "outputs": [],
   "source": []
  }
 ],
 "metadata": {
  "interpreter": {
   "hash": "9bf3711aa9e2f1d5f11ade2695d8b9fec11b8c82e257d46b7a030befbc03e5a6"
  },
  "kernelspec": {
   "display_name": "Python 3.8.12 64-bit ('VAE_efficient_coding': conda)",
   "name": "python3"
  },
  "language_info": {
   "codemirror_mode": {
    "name": "ipython",
    "version": 3
   },
   "file_extension": ".py",
   "mimetype": "text/x-python",
   "name": "python",
   "nbconvert_exporter": "python",
   "pygments_lexer": "ipython3",
   "version": "3.8.12"
  },
  "orig_nbformat": 4
 },
 "nbformat": 4,
 "nbformat_minor": 2
}
