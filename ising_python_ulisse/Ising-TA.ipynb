{
 "cells": [
  {
   "cell_type": "code",
   "execution_count": 12,
   "metadata": {},
   "outputs": [],
   "source": [
    "\n",
    "import torch\n",
    "import numpy as np\n",
    "import itertools\n",
    "import pandas as pd\n",
    "import matplotlib.pyplot as plt\n",
    "from matplotlib import cm\n",
    "import torch.nn.functional as F\n",
    "from torch.utils.data import DataLoader\n",
    "import random\n",
    "import scipy.sparse\n",
    "from scipy import stats\n",
    "from scipy import fftpack\n",
    "from infer_pK_Kt_bytype import optimalLearningParallel"
   ]
  },
  {
   "cell_type": "code",
   "execution_count": 2,
   "metadata": {},
   "outputs": [],
   "source": [
    "#Try to fit parameters of MaxEnt with TA code\n",
    "#Load spikes, possibly in the form NxB\n",
    "r = np.load(\"myspikes.npy\")\n",
    "#r = r.reshape(-1,r.shape[-1]).transpose()"
   ]
  },
  {
   "cell_type": "code",
   "execution_count": 4,
   "metadata": {},
   "outputs": [],
   "source": [
    "#Parameters for fitting\n",
    "N,B = r.shape\n",
    "Bmin = B\n",
    "logTd = 5\n",
    "nWork=1\n",
    "nStepMore = 10\n",
    "eta = 5e-3"
   ]
  },
  {
   "cell_type": "code",
   "execution_count": 6,
   "metadata": {},
   "outputs": [],
   "source": [
    "#COmpute summary statistics and inverse of hessian\n",
    "cells_all = {}\n",
    "P = []\n",
    "pA = [] # mean of P\n",
    "P_csr = []\n",
    "for i_cell in range(N):\n",
    "    cells_all[i_cell] = {}\n",
    "    cells_all[i_cell]['spike_train'] = r[i_cell]\n",
    "cells_clean_all = []\n",
    "for i_clean in range(N):\n",
    "    P_csr.append(scipy.sparse.csr_matrix(cells_all[i_clean]\\\n",
    "        ['spike_train']))\n",
    "    pA.append(P_csr[-1].mean())\n",
    "    cells_clean_all.append(i_clean)\n",
    "# generating susceptibility matrix chiA (Fisher matrix)\n",
    "n_cells_clean = len(cells_clean_all)            \n",
    "\n",
    "for i_clean0 in range(N):\n",
    "    for i_clean1 in range(N):\n",
    "        if i_clean0 < i_clean1:#np.in1d([i_clean0, i_clean1], cells_exclude).any() == False \\\n",
    "            #and i_clean0 < i_clean1:\n",
    "            max_len = np.amin([len(cells_all[i_clean0]['spike_train']), \n",
    "                                len(cells_all[i_clean1]['spike_train'])])\n",
    "            train0 = scipy.sparse.csr_matrix(cells_all[i_clean0]\\\n",
    "                ['spike_train'][:max_len])\n",
    "            train1 = scipy.sparse.csr_matrix(cells_all[i_clean1]\\\n",
    "                ['spike_train'][:max_len])\n",
    "            P_csr.append(train0.multiply(train1))\n",
    "            pA.append(P_csr[-1].mean())\n",
    "chiA = np.zeros((len(P_csr), len(P_csr)))\n",
    "chiAC = np.zeros((len(P_csr), len(P_csr))) # connected correlations\n",
    "for i_chiA0 in range(len(P_csr)):\n",
    "    for i_chiA1 in range(i_chiA0, len(P_csr)):\n",
    "        max_len = np.amin([P_csr[i_chiA0].shape[1], P_csr[i_chiA1].shape[1]])\n",
    "        arr0 = P_csr[i_chiA0][0, :max_len]\n",
    "        arr1 = P_csr[i_chiA1][0, :max_len]\n",
    "        chiA[i_chiA0][i_chiA1] = arr0.multiply(arr1).mean()\n",
    "        chiAC[i_chiA0][i_chiA1] = chiA[i_chiA0][i_chiA1]\n",
    "        # connecting 2-way correlations\n",
    "#        if i_chiA0<n_cells_clean and i_chiA1<n_cells_clean:\n",
    "        chiAC[i_chiA0][i_chiA1] -= pA[i_chiA0]*pA[i_chiA1]\n",
    "        chiAC[i_chiA1][i_chiA0] = chiAC[i_chiA0][i_chiA1]\n",
    "        chiA[i_chiA1][i_chiA0] = chiA[i_chiA0][i_chiA1]"
   ]
  },
  {
   "cell_type": "code",
   "execution_count": 6,
   "metadata": {},
   "outputs": [
    {
     "name": "stdout",
     "output_type": "stream",
     "text": [
      "n1 0 n2 1 offset 10\n",
      "n1 0 n2 2 offset 11\n",
      "n1 0 n2 3 offset 12\n",
      "n1 0 n2 4 offset 13\n",
      "n1 0 n2 5 offset 14\n",
      "n1 0 n2 6 offset 15\n",
      "n1 0 n2 7 offset 16\n",
      "n1 0 n2 8 offset 17\n",
      "n1 0 n2 9 offset 18\n",
      "n1 1 n2 2 offset 19\n",
      "n1 1 n2 3 offset 20\n",
      "n1 1 n2 4 offset 21\n",
      "n1 1 n2 5 offset 22\n",
      "n1 1 n2 6 offset 23\n",
      "n1 1 n2 7 offset 24\n",
      "n1 1 n2 8 offset 25\n",
      "n1 1 n2 9 offset 26\n",
      "n1 2 n2 3 offset 27\n",
      "n1 2 n2 4 offset 28\n",
      "n1 2 n2 5 offset 29\n",
      "n1 2 n2 6 offset 30\n",
      "n1 2 n2 7 offset 31\n",
      "n1 2 n2 8 offset 32\n",
      "n1 2 n2 9 offset 33\n",
      "n1 3 n2 4 offset 34\n",
      "n1 3 n2 5 offset 35\n",
      "n1 3 n2 6 offset 36\n",
      "n1 3 n2 7 offset 37\n",
      "n1 3 n2 8 offset 38\n",
      "n1 3 n2 9 offset 39\n",
      "n1 4 n2 5 offset 40\n",
      "n1 4 n2 6 offset 41\n",
      "n1 4 n2 7 offset 42\n",
      "n1 4 n2 8 offset 43\n",
      "n1 4 n2 9 offset 44\n",
      "n1 5 n2 6 offset 45\n",
      "n1 5 n2 7 offset 46\n",
      "n1 5 n2 8 offset 47\n",
      "n1 5 n2 9 offset 48\n",
      "n1 6 n2 7 offset 49\n",
      "n1 6 n2 8 offset 50\n",
      "n1 6 n2 9 offset 51\n",
      "n1 7 n2 8 offset 52\n",
      "n1 7 n2 9 offset 53\n",
      "n1 8 n2 9 offset 54\n",
      "[2.1708e-01 3.6214e-01 2.6719e-01 1.1384e-01 3.2500e-02 6.4300e-03\n",
      " 7.8000e-04 4.0000e-05 0.0000e+00 0.0000e+00 0.0000e+00]\n",
      "[ 0.00024    -0.00046001 -0.00082999 -0.00150999 -0.00048    -0.00238999\n",
      "  0.0017      0.00016     0.00211    -0.00023999  0.01277     0.02657\n",
      " -0.02154     0.00108    -0.02286     0.02676     0.01046    -0.0156\n",
      " -0.01011    -0.00305    -0.02037     0.03001    -0.01931     0.02992\n",
      " -0.01397    -0.0132     -0.01922    -0.01338    -0.00886    -0.02195\n",
      "  0.01002     0.0262     -0.016       0.00549    -0.01516     0.02264\n",
      " -0.02276    -0.00094     0.00385     0.02104    -0.0149      0.01891\n",
      " -0.01341    -0.01016    -0.01482    -0.02145    -0.01738     0.02484\n",
      " -0.00234    -0.00647    -0.01476    -0.01789    -0.01426     0.02358\n",
      " -0.01122   ]\n",
      "3.5589027809966582\n",
      "1 1.05 1.0 2.829245160435423\n",
      "2 1.1025 1.0 1.0474139657714097\n",
      "3 1.1576250000000001 1.0 0.13756685407367147\n",
      "4 1.2155062500000002 1.0 0.0042175993242013965\n",
      "5 1.2762815625000004 1.0 -0.04425725868884554\n",
      "Inference done, now thermalization\n",
      "5 1.2977082841792225 0 -0.01664902963337628 0.2932300000001525\n",
      "5 1.505796480922804 1 -0.1487221309356115 0.287770000000147\n",
      "5 2.00730148408152 2 -0.2874692934004839 0.29141000000015066\n",
      "5 2.1392862211160795 3 -0.06368095704523646 0.2886500000001479\n",
      "5 1.9388343222629911 4 0.09838530419112868 0.28499000000014424\n",
      "5 1.3526013498086225 5 0.3600572635762475 0.2940500000001533\n",
      "5 1.6361224029692871 6 -0.19029938972818788 0.28562000000014487\n"
     ]
    }
   ],
   "source": [
    "#Fitting procedure\n",
    "q, jList, pK_all, pK_types, pK_indep, Kt_types, raster_MC = optimalLearningParallel(\\\n",
    "                                                                    N, \n",
    "                                                                    B, \n",
    "                                                                    Bmin, \n",
    "                                                                    logTd, pA, chiAC, \n",
    "                                                                    eta, 1.0, \n",
    "                                                                    nStepMore, nWork, \n",
    "                                                                    labels)"
   ]
  },
  {
   "cell_type": "code",
   "execution_count": 21,
   "metadata": {},
   "outputs": [],
   "source": [
    "tri = np.zeros((N,N))\n",
    "tri[np.triu_indices(N, 1)] = jList[N:]"
   ]
  },
  {
   "cell_type": "code",
   "execution_count": 23,
   "metadata": {},
   "outputs": [
    {
     "data": {
      "text/plain": [
       "<matplotlib.image.AxesImage at 0x7f55a85e6430>"
      ]
     },
     "execution_count": 23,
     "metadata": {},
     "output_type": "execute_result"
    },
    {
     "data": {
      "image/png": "[encoded data removed]",
      "image/svg+xml": "<?xml version=\"1.0\" encoding=\"utf-8\" standalone=\"no\"?>\n<!DOCTYPE svg PUBLIC \"-//W3C//DTD SVG 1.1//EN\"\n  \"http://www.w3.org/Graphics/SVG/1.1/DTD/svg11.dtd\">\n<svg height=\"248.518125pt\" version=\"1.1\" viewBox=\"0 0 245.2025 248.518125\" width=\"245.2025pt\" xmlns=\"http://www.w3.org/2000/svg\" xmlns:xlink=\"http://www.w3.org/1999/xlink\">\n <metadata>\n  <rdf:RDF xmlns:cc=\"http://creativecommons.org/ns#\" xmlns:dc=\"http://purl.org/dc/elements/1.1/\" xmlns:rdf=\"http://www.w3.org/1999/02/22-rdf-syntax-ns#\">\n   <cc:Work>\n    <dc:type rdf:resource=\"http://purl.org/dc/dcmitype/StillImage\"/>\n    <dc:date>2021-10-18T14:50:28.298469</dc:date>\n    <dc:format>image/svg+xml</dc:format>\n    <dc:creator>\n     <cc:Agent>\n      <dc:title>Matplotlib v3.4.2, https://matplotlib.org/</dc:title>\n     </cc:Agent>\n    </dc:creator>\n   </cc:Work>\n  </rdf:RDF>\n </metadata>\n <defs>\n  <style type=\"text/css\">*{stroke-linecap:butt;stroke-linejoin:round;}</style>\n </defs>\n <g id=\"figure_1\">\n  <g id=\"patch_1\">\n   <path d=\"M 0 248.518125 \nL 245.2025 248.518125 \nL 245.2025 0 \nL 0 0 \nz\n\" style=\"fill:none;\"/>\n  </g>\n  <g id=\"axes_1\">\n   <g id=\"patch_2\">\n    <path d=\"M 20.5625 224.64 \nL 238.0025 224.64 \nL 238.0025 7.2 \nL 20.5625 7.2 \nz\n\" style=\"fill:#ffffff;\"/>\n   </g>\n   <g clip-path=\"url(#p40942eeb58)\">\n    <image height=\"218\" id=\"image9efbc6bc83\" transform=\"scale(1 -1)translate(0 -218)\" width=\"218\" x=\"20.5625\" xlink:href=\"data:image/png;base64,\niVBORw0KGgoAAAANSUhEUgAAANoAAADaCAYAAADAHVzbAAAD3ElEQVR4nO3c3+tYcxzH8bchkxs/LtZKu5ELdrMLSbtyIWkXkhtLjQu5wlqusdy4oZBdrrSWUIiLlRtXJCtq1FJMLpRShJbUXHDnLzif53zzePwBr06nnn3u3lc899X9fw+w1K7L/QHwfyA0CAgNAkKDgNAgIDQICA0CQoOA0CAgNAgIDQJCg4DQICA0CAgNAkKDgNAgIDQICA0CQoOA0CBw1eX+APgvOfXlXUt2vWgQEBoEhAYBoUFAaBAQGgSEBgGhQUBoEBAaBIQGAaFBQGgQEBoEhAYBoUFAaBAQGgSEBgGhQUBoEHAFix3p3VN3L9k9c/SlJbteNAgIDQJCg4DQICA0CAgNAkKDgNAgIDQICA0CQoOA0CAgNAgIDQJCg4DQICA0CAgNAkKDgNAg4DgPy52/uHfzzZtf/3rzzZmZQ/uPLtn1okFAaBAQGgSEBgGhQUBoEBAaBIQGAaFBQGgQEBoEhAYBoUFAaBAQGgSEBgGhQUBoEBAaBIQGAaFBwBUs/vXpgWuW7P743p7NN1/7/K3NN2dm3vj50pJdLxoEhAYBoUFAaBAQGgSEBgGhQUBoEBAaBIQGAaFBQGgQEBoEhAYBoUFAaBAQGgSEBgGhQUBoEBAaBFzB2oE+e/TAkt2D584t2X3n9PWbb77w4pHNN2dmrvzDFSzYsYQGAaFBQGgQEBoEhAYBoUFAaBAQGgSEBgGhQUBoEBAaBIQGAaFBQGgQEBoEhAYBoUFAaBAQGgRcwVro7OH9S3aPnzm9ZPfYs08s2X3qmfc33/z24T2bb87MHL7h7JJdLxoEhAYBoUFAaBAQGgSEBgGhQUBoEBAaBIQGAaFBQGgQEBoEhAYBoUFAaBAQGgSEBgGhQUBoEBAaBFzBmpkvftu3ZPfC8WuX7D7y9pNLdk88f3LJ7i1X/7r55pvHDm2+OTNz6ys/Ldn1okFAaBAQGgSEBgGhQUBoEBAaBIQGAaFBQGgQEBoEhAYBoUFAaBAQGgSEBgGhQUBoEBAaBIQGgR13nOf8xb2bb166d/vjMTMz33z/4ZLd+47cuWR390N/Ldm956Njm2/e9t0vm2/OzJw4+cCSXS8aBIQGAaFBQGgQEBoEhAYBoUFAaBAQGgSEBgGhQUBoEBAaBIQGAaFBQGgQEBoEhAYBoUFAaBAQGgR23BWsV/d9sPnmwZef3nxzZubxH9b83l03Xrdk96Zdfy7ZfeyOTzbf/PjC7s03Z2Zuf/D3JbteNAgIDQJCg4DQICA0CAgNAkKDgNAgIDQICA0CQoOA0CAgNAgIDQJCg4DQICA0CAgNAkKDgNAgIDQI/AMGl0bwB29MbgAAAABJRU5ErkJggg==\" y=\"-6.64\"/>\n   </g>\n   <g id=\"matplotlib.axis_1\">\n    <g id=\"xtick_1\">\n     <g id=\"line2d_1\">\n      <defs>\n       <path d=\"M 0 0 \nL 0 3.5 \n\" id=\"m36e4161ad2\" style=\"stroke:#000000;stroke-width:0.8;\"/>\n      </defs>\n      <g>\n       <use style=\"stroke:#000000;stroke-width:0.8;\" x=\"31.4345\" xlink:href=\"#m36e4161ad2\" y=\"224.64\"/>\n      </g>\n     </g>\n     <g id=\"text_1\">\n      <!-- 0 -->\n      <g transform=\"translate(28.25325 239.238437)scale(0.1 -0.1)\">\n       <defs>\n        <path d=\"M 2034 4250 \nQ 1547 4250 1301 3770 \nQ 1056 3291 1056 2328 \nQ 1056 1369 1301 889 \nQ 1547 409 2034 409 \nQ 2525 409 2770 889 \nQ 3016 1369 3016 2328 \nQ 3016 3291 2770 3770 \nQ 2525 4250 2034 4250 \nz\nM 2034 4750 \nQ 2819 4750 3233 4129 \nQ 3647 3509 3647 2328 \nQ 3647 1150 3233 529 \nQ 2819 -91 2034 -91 \nQ 1250 -91 836 529 \nQ 422 1150 422 2328 \nQ 422 3509 836 4129 \nQ 1250 4750 2034 4750 \nz\n\" id=\"DejaVuSans-30\" transform=\"scale(0.015625)\"/>\n       </defs>\n       <use xlink:href=\"#DejaVuSans-30\"/>\n      </g>\n     </g>\n    </g>\n    <g id=\"xtick_2\">\n     <g id=\"line2d_2\">\n      <g>\n       <use style=\"stroke:#000000;stroke-width:0.8;\" x=\"74.9225\" xlink:href=\"#m36e4161ad2\" y=\"224.64\"/>\n      </g>\n     </g>\n     <g id=\"text_2\">\n      <!-- 2 -->\n      <g transform=\"translate(71.74125 239.238437)scale(0.1 -0.1)\">\n       <defs>\n        <path d=\"M 1228 531 \nL 3431 531 \nL 3431 0 \nL 469 0 \nL 469 531 \nQ 828 903 1448 1529 \nQ 2069 2156 2228 2338 \nQ 2531 2678 2651 2914 \nQ 2772 3150 2772 3378 \nQ 2772 3750 2511 3984 \nQ 2250 4219 1831 4219 \nQ 1534 4219 1204 4116 \nQ 875 4013 500 3803 \nL 500 4441 \nQ 881 4594 1212 4672 \nQ 1544 4750 1819 4750 \nQ 2544 4750 2975 4387 \nQ 3406 4025 3406 3419 \nQ 3406 3131 3298 2873 \nQ 3191 2616 2906 2266 \nQ 2828 2175 2409 1742 \nQ 1991 1309 1228 531 \nz\n\" id=\"DejaVuSans-32\" transform=\"scale(0.015625)\"/>\n       </defs>\n       <use xlink:href=\"#DejaVuSans-32\"/>\n      </g>\n     </g>\n    </g>\n    <g id=\"xtick_3\">\n     <g id=\"line2d_3\">\n      <g>\n       <use style=\"stroke:#000000;stroke-width:0.8;\" x=\"118.4105\" xlink:href=\"#m36e4161ad2\" y=\"224.64\"/>\n      </g>\n     </g>\n     <g id=\"text_3\">\n      <!-- 4 -->\n      <g transform=\"translate(115.22925 239.238437)scale(0.1 -0.1)\">\n       <defs>\n        <path d=\"M 2419 4116 \nL 825 1625 \nL 2419 1625 \nL 2419 4116 \nz\nM 2253 4666 \nL 3047 4666 \nL 3047 1625 \nL 3713 1625 \nL 3713 1100 \nL 3047 1100 \nL 3047 0 \nL 2419 0 \nL 2419 1100 \nL 313 1100 \nL 313 1709 \nL 2253 4666 \nz\n\" id=\"DejaVuSans-34\" transform=\"scale(0.015625)\"/>\n       </defs>\n       <use xlink:href=\"#DejaVuSans-34\"/>\n      </g>\n     </g>\n    </g>\n    <g id=\"xtick_4\">\n     <g id=\"line2d_4\">\n      <g>\n       <use style=\"stroke:#000000;stroke-width:0.8;\" x=\"161.8985\" xlink:href=\"#m36e4161ad2\" y=\"224.64\"/>\n      </g>\n     </g>\n     <g id=\"text_4\">\n      <!-- 6 -->\n      <g transform=\"translate(158.71725 239.238437)scale(0.1 -0.1)\">\n       <defs>\n        <path d=\"M 2113 2584 \nQ 1688 2584 1439 2293 \nQ 1191 2003 1191 1497 \nQ 1191 994 1439 701 \nQ 1688 409 2113 409 \nQ 2538 409 2786 701 \nQ 3034 994 3034 1497 \nQ 3034 2003 2786 2293 \nQ 2538 2584 2113 2584 \nz\nM 3366 4563 \nL 3366 3988 \nQ 3128 4100 2886 4159 \nQ 2644 4219 2406 4219 \nQ 1781 4219 1451 3797 \nQ 1122 3375 1075 2522 \nQ 1259 2794 1537 2939 \nQ 1816 3084 2150 3084 \nQ 2853 3084 3261 2657 \nQ 3669 2231 3669 1497 \nQ 3669 778 3244 343 \nQ 2819 -91 2113 -91 \nQ 1303 -91 875 529 \nQ 447 1150 447 2328 \nQ 447 3434 972 4092 \nQ 1497 4750 2381 4750 \nQ 2619 4750 2861 4703 \nQ 3103 4656 3366 4563 \nz\n\" id=\"DejaVuSans-36\" transform=\"scale(0.015625)\"/>\n       </defs>\n       <use xlink:href=\"#DejaVuSans-36\"/>\n      </g>\n     </g>\n    </g>\n    <g id=\"xtick_5\">\n     <g id=\"line2d_5\">\n      <g>\n       <use style=\"stroke:#000000;stroke-width:0.8;\" x=\"205.3865\" xlink:href=\"#m36e4161ad2\" y=\"224.64\"/>\n      </g>\n     </g>\n     <g id=\"text_5\">\n      <!-- 8 -->\n      <g transform=\"translate(202.20525 239.238437)scale(0.1 -0.1)\">\n       <defs>\n        <path d=\"M 2034 2216 \nQ 1584 2216 1326 1975 \nQ 1069 1734 1069 1313 \nQ 1069 891 1326 650 \nQ 1584 409 2034 409 \nQ 2484 409 2743 651 \nQ 3003 894 3003 1313 \nQ 3003 1734 2745 1975 \nQ 2488 2216 2034 2216 \nz\nM 1403 2484 \nQ 997 2584 770 2862 \nQ 544 3141 544 3541 \nQ 544 4100 942 4425 \nQ 1341 4750 2034 4750 \nQ 2731 4750 3128 4425 \nQ 3525 4100 3525 3541 \nQ 3525 3141 3298 2862 \nQ 3072 2584 2669 2484 \nQ 3125 2378 3379 2068 \nQ 3634 1759 3634 1313 \nQ 3634 634 3220 271 \nQ 2806 -91 2034 -91 \nQ 1263 -91 848 271 \nQ 434 634 434 1313 \nQ 434 1759 690 2068 \nQ 947 2378 1403 2484 \nz\nM 1172 3481 \nQ 1172 3119 1398 2916 \nQ 1625 2713 2034 2713 \nQ 2441 2713 2670 2916 \nQ 2900 3119 2900 3481 \nQ 2900 3844 2670 4047 \nQ 2441 4250 2034 4250 \nQ 1625 4250 1398 4047 \nQ 1172 3844 1172 3481 \nz\n\" id=\"DejaVuSans-38\" transform=\"scale(0.015625)\"/>\n       </defs>\n       <use xlink:href=\"#DejaVuSans-38\"/>\n      </g>\n     </g>\n    </g>\n   </g>\n   <g id=\"matplotlib.axis_2\">\n    <g id=\"ytick_1\">\n     <g id=\"line2d_6\">\n      <defs>\n       <path d=\"M 0 0 \nL -3.5 0 \n\" id=\"m2e4019f168\" style=\"stroke:#000000;stroke-width:0.8;\"/>\n      </defs>\n      <g>\n       <use style=\"stroke:#000000;stroke-width:0.8;\" x=\"20.5625\" xlink:href=\"#m2e4019f168\" y=\"18.072\"/>\n      </g>\n     </g>\n     <g id=\"text_6\">\n      <!-- 0 -->\n      <g transform=\"translate(7.2 21.871219)scale(0.1 -0.1)\">\n       <use xlink:href=\"#DejaVuSans-30\"/>\n      </g>\n     </g>\n    </g>\n    <g id=\"ytick_2\">\n     <g id=\"line2d_7\">\n      <g>\n       <use style=\"stroke:#000000;stroke-width:0.8;\" x=\"20.5625\" xlink:href=\"#m2e4019f168\" y=\"61.56\"/>\n      </g>\n     </g>\n     <g id=\"text_7\">\n      <!-- 2 -->\n      <g transform=\"translate(7.2 65.359219)scale(0.1 -0.1)\">\n       <use xlink:href=\"#DejaVuSans-32\"/>\n      </g>\n     </g>\n    </g>\n    <g id=\"ytick_3\">\n     <g id=\"line2d_8\">\n      <g>\n       <use style=\"stroke:#000000;stroke-width:0.8;\" x=\"20.5625\" xlink:href=\"#m2e4019f168\" y=\"105.048\"/>\n      </g>\n     </g>\n     <g id=\"text_8\">\n      <!-- 4 -->\n      <g transform=\"translate(7.2 108.847219)scale(0.1 -0.1)\">\n       <use xlink:href=\"#DejaVuSans-34\"/>\n      </g>\n     </g>\n    </g>\n    <g id=\"ytick_4\">\n     <g id=\"line2d_9\">\n      <g>\n       <use style=\"stroke:#000000;stroke-width:0.8;\" x=\"20.5625\" xlink:href=\"#m2e4019f168\" y=\"148.536\"/>\n      </g>\n     </g>\n     <g id=\"text_9\">\n      <!-- 6 -->\n      <g transform=\"translate(7.2 152.335219)scale(0.1 -0.1)\">\n       <use xlink:href=\"#DejaVuSans-36\"/>\n      </g>\n     </g>\n    </g>\n    <g id=\"ytick_5\">\n     <g id=\"line2d_10\">\n      <g>\n       <use style=\"stroke:#000000;stroke-width:0.8;\" x=\"20.5625\" xlink:href=\"#m2e4019f168\" y=\"192.024\"/>\n      </g>\n     </g>\n     <g id=\"text_10\">\n      <!-- 8 -->\n      <g transform=\"translate(7.2 195.823219)scale(0.1 -0.1)\">\n       <use xlink:href=\"#DejaVuSans-38\"/>\n      </g>\n     </g>\n    </g>\n   </g>\n   <g id=\"patch_3\">\n    <path d=\"M 20.5625 224.64 \nL 20.5625 7.2 \n\" style=\"fill:none;stroke:#000000;stroke-linecap:square;stroke-linejoin:miter;stroke-width:0.8;\"/>\n   </g>\n   <g id=\"patch_4\">\n    <path d=\"M 238.0025 224.64 \nL 238.0025 7.2 \n\" style=\"fill:none;stroke:#000000;stroke-linecap:square;stroke-linejoin:miter;stroke-width:0.8;\"/>\n   </g>\n   <g id=\"patch_5\">\n    <path d=\"M 20.5625 224.64 \nL 238.0025 224.64 \n\" style=\"fill:none;stroke:#000000;stroke-linecap:square;stroke-linejoin:miter;stroke-width:0.8;\"/>\n   </g>\n   <g id=\"patch_6\">\n    <path d=\"M 20.5625 7.2 \nL 238.0025 7.2 \n\" style=\"fill:none;stroke:#000000;stroke-linecap:square;stroke-linejoin:miter;stroke-width:0.8;\"/>\n   </g>\n  </g>\n </g>\n <defs>\n  <clipPath id=\"p40942eeb58\">\n   <rect height=\"217.44\" width=\"217.44\" x=\"20.5625\" y=\"7.2\"/>\n  </clipPath>\n </defs>\n</svg>\n",
      "text/plain": [
       "<Figure size 432x288 with 1 Axes>"
      ]
     },
     "metadata": {
      "needs_background": "light"
     },
     "output_type": "display_data"
    }
   ],
   "source": [
    "plt.imshow(tri)"
   ]
  },
  {
   "cell_type": "code",
   "execution_count": 9,
   "metadata": {},
   "outputs": [
    {
     "data": {
      "text/plain": [
       "55"
      ]
     },
     "execution_count": 9,
     "metadata": {},
     "output_type": "execute_result"
    }
   ],
   "source": [
    "len(pA)"
   ]
  },
  {
   "cell_type": "code",
   "execution_count": 11,
   "metadata": {},
   "outputs": [
    {
     "data": {
      "text/plain": [
       "(55, 55)"
      ]
     },
     "execution_count": 11,
     "metadata": {},
     "output_type": "execute_result"
    }
   ],
   "source": [
    "chiAC.shape"
   ]
  },
  {
   "cell_type": "code",
   "execution_count": null,
   "metadata": {},
   "outputs": [],
   "source": []
  }
 ],
 "metadata": {
  "interpreter": {
   "hash": "9bf3711aa9e2f1d5f11ade2695d8b9fec11b8c82e257d46b7a030befbc03e5a6"
  },
  "kernelspec": {
   "display_name": "Python 3.8.12 64-bit ('VAE_efficient_coding': conda)",
   "name": "python3"
  },
  "language_info": {
   "codemirror_mode": {
    "name": "ipython",
    "version": 3
   },
   "file_extension": ".py",
   "mimetype": "text/x-python",
   "name": "python",
   "nbconvert_exporter": "python",
   "pygments_lexer": "ipython3",
   "version": "3.8.12"
  },
  "orig_nbformat": 4
 },
 "nbformat": 4,
 "nbformat_minor": 2
}
