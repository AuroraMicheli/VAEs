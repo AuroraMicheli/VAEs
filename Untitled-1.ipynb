{
 "cells": [
  {
   "cell_type": "code",
   "execution_count": 1,
   "metadata": {},
   "outputs": [],
   "source": [
    "import torch\n",
    "import torch.nn.functional as F\n",
    "import numpy as np\n",
    "from sklearn import cluster\n",
    "import matplotlib.pyplot as plt"
   ]
  },
  {
   "cell_type": "code",
   "execution_count": 77,
   "metadata": {},
   "outputs": [],
   "source": [
    "N=10\n",
    "def initialize_circbernoulli(N):\n",
    "    cs = torch.nn.Parameter(torch.arange(0,2*np.pi,2*np.pi/N)[None,0:N])\n",
    "    sigmas = (torch.ones(N)*2*np.pi/(5*N))[None,:]\n",
    "    log_ks = torch.nn.Parameter(torch.log(1/sigmas))\n",
    "    As = torch.nn.Parameter(torch.exp(-torch.exp(log_ks))*torch.ones(N)[None,:])\n",
    "    return cs,log_ks,As"
   ]
  },
  {
   "cell_type": "code",
   "execution_count": 100,
   "metadata": {},
   "outputs": [],
   "source": [
    "class CircularBernoulliEncoder(torch.nn.Module):\n",
    "    # Encoder returning for N neurons their unnormalized probabilities of being active (i.e. logits),as \n",
    "    # a quadratic function of x\n",
    "    def __init__(self,N):\n",
    "        super().__init__()\n",
    "        self.cs, self.log_ks,As  = initialize_circbernoulli(N)\n",
    "    def forward(self,theta): \n",
    "        etas = torch.exp(log_ks)*torch.cos(theta_fine - cs) + torch.log(As)\n",
    "        return etas\n",
    "    def sample(self,theta,nsamples):\n",
    "        p_r_x = torch.distributions.bernoulli.Bernoulli(logits = self.forward(theta))\n",
    "        r = p_r_x.sample((nsamples,)).transpose(0,1)\n",
    "        return r"
   ]
  },
  {
   "cell_type": "code",
   "execution_count": 101,
   "metadata": {},
   "outputs": [],
   "source": [
    "cs,log_ks,As = initialize_circbernoulli(N)\n",
    "theta_fine = torch.linspace(0,2*np.pi,1000)[:,None]"
   ]
  },
  {
   "cell_type": "code",
   "execution_count": 112,
   "metadata": {},
   "outputs": [
    {
     "data": {
      "text/plain": [
       "torch.Size([1000, 1000, 10])"
      ]
     },
     "execution_count": 112,
     "metadata": {},
     "output_type": "execute_result"
    }
   ],
   "source": [
    "enc = CircularBernoulliEncoder(N)\n",
    "r = enc.sample(theta_fine,1000)\n",
    "r.shape\n"
   ]
  },
  {
   "cell_type": "code",
   "execution_count": 113,
   "metadata": {},
   "outputs": [
    {
     "data": {
      "text/plain": [
       "[<matplotlib.lines.Line2D at 0x7f54cae285b0>]"
      ]
     },
     "execution_count": 113,
     "metadata": {},
     "output_type": "execute_result"
    },
    {
     "data": {
      "image/png": "[encoded data removed]",
      "text/plain": [
       "<Figure size 432x288 with 1 Axes>"
      ]
     },
     "metadata": {
      "needs_background": "light"
     },
     "output_type": "display_data"
    }
   ],
   "source": [
    "plt.plot(theta_fine,r.mean(dim=1)[:,0])"
   ]
  },
  {
   "cell_type": "code",
   "execution_count": null,
   "metadata": {},
   "outputs": [],
   "source": []
  }
 ],
 "metadata": {
  "interpreter": {
   "hash": "9bf3711aa9e2f1d5f11ade2695d8b9fec11b8c82e257d46b7a030befbc03e5a6"
  },
  "kernelspec": {
   "display_name": "Python 3.8.12 64-bit ('VAE_efficient_coding': conda)",
   "name": "python3"
  },
  "language_info": {
   "codemirror_mode": {
    "name": "ipython",
    "version": 3
   },
   "file_extension": ".py",
   "mimetype": "text/x-python",
   "name": "python",
   "nbconvert_exporter": "python",
   "pygments_lexer": "ipython3",
   "version": "3.8.12"
  },
  "orig_nbformat": 4
 },
 "nbformat": 4,
 "nbformat_minor": 2
}
