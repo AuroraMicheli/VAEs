{
 "metadata": {
  "language_info": {
   "codemirror_mode": {
    "name": "ipython",
    "version": 3
   },
   "file_extension": ".py",
   "mimetype": "text/x-python",
   "name": "python",
   "nbconvert_exporter": "python",
   "pygments_lexer": "ipython3",
   "version": "3.8.5"
  },
  "orig_nbformat": 4,
  "kernelspec": {
   "name": "python3",
   "display_name": "Python 3.8.5 64-bit ('base': conda)"
  },
  "interpreter": {
   "hash": "21f70cf4e8d561a50197189da02bc4da5d9293f6b358ed57b87ee5706fd96cf1"
  }
 },
 "nbformat": 4,
 "nbformat_minor": 2,
 "cells": [
  {
   "cell_type": "code",
   "execution_count": 1,
   "metadata": {},
   "outputs": [],
   "source": [
    "import torch\n",
    "import numpy as np\n",
    "import matplotlib.pyplot as plt\n",
    "import torch.nn.functional as F\n",
    "from src.encoders_decoders import *\n",
    "from src.losses import *\n",
    "from torch.utils.data import DataLoader\n",
    "import random"
   ]
  },
  {
   "cell_type": "code",
   "execution_count": 2,
   "metadata": {},
   "outputs": [],
   "source": [
    "# set device\n",
    "if torch.cuda.is_available():\n",
    "    device = torch.device('cuda:0')\n",
    "else:\n",
    "    device = torch.device('cpu')"
   ]
  },
  {
   "cell_type": "code",
   "execution_count": 3,
   "metadata": {},
   "outputs": [],
   "source": [
    "#Architecture parameters and distributions of stimuli\n",
    "N = 10\n",
    "K = 10\n",
    "p_x = torch.distributions.exponential.Exponential(0.5)\n",
    "\n",
    "#Training parameters\n",
    "N_EPOCHS = 5000\n",
    "N_SAMPLES = 500\n",
    "lr = 1e-2\n",
    "BATCH_SIZE = 500\n",
    "\n",
    "#Generate samples\n",
    "x_samples = p_x.sample((N_SAMPLES,))[:,None]\n",
    "x_sorted,indices = x_samples.sort(dim=0)\n",
    "x_min,x_max = x_sorted[0,:].item(),x_sorted[-1,:].item()\n",
    "x_data = torch.utils.data.DataLoader(x_samples,batch_size=BATCH_SIZE)\n",
    "x_fine = torch.linspace(x_min,x_max,1000)[:,None]"
   ]
  },
  {
   "cell_type": "code",
   "execution_count": 11,
   "metadata": {},
   "outputs": [
    {
     "output_type": "execute_result",
     "data": {
      "text/plain": [
       "torch.Size([1000, 10, 10])"
      ]
     },
     "metadata": {},
     "execution_count": 11
    }
   ],
   "source": [
    "#Initialization of encoder and decoder \n",
    "enc = BernoulliEncoder(N,x_min-0.2,x_max+0.2,x_sorted)\n",
    "r = enc.sample(x_fine,10)\n",
    "r.shape\n",
    "\n"
   ]
  },
  {
   "cell_type": "code",
   "execution_count": null,
   "metadata": {},
   "outputs": [],
   "source": []
  },
  {
   "cell_type": "code",
   "execution_count": null,
   "metadata": {},
   "outputs": [],
   "source": []
  },
  {
   "cell_type": "code",
   "execution_count": null,
   "metadata": {},
   "outputs": [],
   "source": []
  },
  {
   "cell_type": "code",
   "execution_count": null,
   "metadata": {},
   "outputs": [],
   "source": []
  }
 ]
}