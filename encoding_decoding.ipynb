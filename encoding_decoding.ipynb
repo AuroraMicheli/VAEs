{
 "cells": [
  {
   "cell_type": "code",
   "execution_count": null,
   "id": "piano-julian",
   "metadata": {},
   "outputs": [],
   "source": [
    "import torch\n",
    "import numpy as np\n",
    "import matplotlib.pyplot as plt"
   ]
  },
  {
   "cell_type": "code",
   "execution_count": null,
   "metadata": {},
   "outputs": [],
   "source": [
    "def optimal_encoding_parameters(mu,sigma,q):\n",
    "    a = -1/(2*sigma**2)\n",
    "    b = mu/sigma**2\n",
    "    c = -mu**2/(2*sigma**2) -torch.log(sigma) - torch.log(q)\n",
    "    return a,b,c\n",
    "def encode(a,b,c,x_data):\n",
    "    #Define probabilities of activation given a vector of stimuli\n",
    "    p_tilde = torch.matmul(a.reshape(-1,1),x_data.reshape(1,-1)**2) + torch.matmul(b.reshape(-1,1),x_data.reshape(1,-1)) + c[:,None]\n",
    "    p_j_x = torch.softmax(p_tilde,dim=0)\n",
    "    return p_j_x\n"
   ]
  },
  {
   "cell_type": "code",
   "execution_count": null,
   "id": "relevant-bowling",
   "metadata": {},
   "outputs": [],
   "source": [
    "#Stimuli\n",
    "x_data = torch.distributions.exponential.Exponential(0.5).sample((500,))\n",
    "x_sorted,indices = x_data.sort()\n",
    "N = 20;\n",
    "#Decoding parameters\n",
    "mu = torch.arange(0,10,10/N);\n",
    "sigma = 1*torch.ones(N);\n",
    "q = 1/N*torch.ones(N)\n",
    "a,b,c = optimal_encoding_parameters(mu,sigma,q)\n",
    "p_j_x = encode(a,b,c,x_data)"
   ]
  },
  {
   "cell_type": "code",
   "execution_count": null,
   "id": "neither-programmer",
   "metadata": {},
   "outputs": [],
   "source": [
    "#Activation probability as a function of neuron index for a given stimulus\n",
    "plt.plot(p_j_x[:,5])"
   ]
  },
  {
   "cell_type": "code",
   "execution_count": null,
   "id": "compound-freeze",
   "metadata": {},
   "outputs": [],
   "source": [
    "#Activation probability of neuron j as a function of stimulus x\n",
    "j = 10\n",
    "plt.plot(x_sorted,p_j_x[j,indices])"
   ]
  },
  {
   "cell_type": "code",
   "execution_count": null,
   "metadata": {},
   "outputs": [],
   "source": [
    "#Encoding-decoding processc\n",
    "#Sotchastic sampling\n",
    "j_sample = torch.distributions.categorical.Categorical(p_j_x[:,7]).sample()\n",
    "#Definition of decoder distribution\n",
    "q_x_j = torch.distributions.normal.Normal(mu[j_sample],sigma[j_sample])\n",
    "plt.plot(x_sorted,torch.exp(q_x_j.log_prob(x_sorted)),label='q(x|j)')\n",
    "plt.vlines(x_data[7],0,1,colors='red',label='x_true') \n",
    "plt.legend()\n",
    "plt.show()"
   ]
  },
  {
   "cell_type": "code",
   "execution_count": null,
   "metadata": {},
   "outputs": [],
   "source": [
    "j_sample"
   ]
  },
  {
   "cell_type": "code",
   "execution_count": null,
   "metadata": {},
   "outputs": [],
   "source": []
  }
 ],
 "metadata": {
  "kernelspec": {
   "name": "python388jvsc74a57bd0895cb1d1af9b5e7f528dfbf95a9d008a547584ecf5b75b6a6d891b9f5b4ed905",
   "display_name": "Python 3.8.8 64-bit ('VAE_efficient_coding': conda)"
  },
  "language_info": {
   "codemirror_mode": {
    "name": "ipython",
    "version": 3
   },
   "file_extension": ".py",
   "mimetype": "text/x-python",
   "name": "python",
   "nbconvert_exporter": "python",
   "pygments_lexer": "ipython3",
   "version": "3.8.8"
  }
 },
 "nbformat": 4,
 "nbformat_minor": 5
}